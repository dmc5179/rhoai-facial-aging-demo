{
 "cells": [
  {
   "cell_type": "markdown",
   "metadata": {},
   "source": [
    "# Import libraries, load and transform data"
   ]
  },
  {
   "cell_type": "code",
   "execution_count": null,
   "metadata": {
    "execution": {
     "iopub.execute_input": "2024-03-17T17:43:42.813912Z",
     "iopub.status.busy": "2024-03-17T17:43:42.812925Z",
     "iopub.status.idle": "2024-03-17T17:44:26.234982Z",
     "shell.execute_reply": "2024-03-17T17:44:26.233900Z",
     "shell.execute_reply.started": "2024-03-17T17:43:42.813872Z"
    },
    "trusted": true
   },
   "outputs": [],
   "source": [
    "# Install necessary Python packages using pip\n",
    "\n",
    "# Use the 'pip' command to install packages\n",
    "# The '-q' flag stands for 'quiet,' which means it will suppress most output, making the installation process less verbose\n",
    "# We're installing the following packages:\n",
    "# - 'evaluate': This package is likely used for evaluation purposes, but the specific functionality is not clear from this line alone\n",
    "# - 'transformers': This package is commonly used for natural language processing tasks, such as working with pre-trained language models like BERT or GPT\n",
    "# - 'datasets': This package provides easy access to various datasets commonly used in machine learning and natural language processing tasks\n",
    "# - 'mlflow': MLflow is an open-source platform for managing the end-to-end machine learning lifecycle, including tracking experiments, packaging code into reproducible runs, and sharing and deploying models\n",
    "\n",
    "# Note: Before running this code, make sure you have Python and pip installed on your system.\n",
    "# Also, ensure you have an internet connection since pip will download and install these packages from PyPI (Python Package Index).\n",
    "!pip install -U -q evaluate transformers datasets>=2.14.5 accelerate>=0.27 mlflow 2>/dev/null\n",
    "!pip install -U -q imbalanced-learn"
   ]
  },
  {
   "cell_type": "code",
   "execution_count": null,
   "metadata": {
    "execution": {
     "iopub.execute_input": "2024-03-17T17:44:26.237288Z",
     "iopub.status.busy": "2024-03-17T17:44:26.236974Z",
     "iopub.status.idle": "2024-03-17T17:44:40.467254Z",
     "shell.execute_reply": "2024-03-17T17:44:40.466277Z",
     "shell.execute_reply.started": "2024-03-17T17:44:26.237261Z"
    },
    "trusted": true
   },
   "outputs": [],
   "source": [
    "# Importing necessary libraries and modules\n",
    "import warnings  # Import the 'warnings' module for handling warnings\n",
    "warnings.filterwarnings(\"ignore\")  # Ignore warnings during execution\n",
    "\n",
    "import gc  # Import the 'gc' module for garbage collection\n",
    "import numpy as np  # Import NumPy for numerical operations\n",
    "import pandas as pd  # Import Pandas for data manipulation\n",
    "import itertools  # Import 'itertools' for iterators and looping\n",
    "from collections import Counter  # Import 'Counter' for counting elements\n",
    "import matplotlib.pyplot as plt  # Import Matplotlib for data visualization\n",
    "from sklearn.metrics import (  # Import various metrics from scikit-learn\n",
    "    accuracy_score,  # For calculating accuracy\n",
    "    roc_auc_score,  # For ROC AUC score\n",
    "    confusion_matrix,  # For confusion matrix\n",
    "    classification_report,  # For classification report\n",
    "    f1_score  # For F1 score\n",
    ")\n",
    "\n",
    "# Import custom modules and classes\n",
    "from imblearn.over_sampling import RandomOverSampler # import RandomOverSampler\n",
    "import accelerate # Import the 'accelerate' module\n",
    "import evaluate  # Import the 'evaluate' module\n",
    "from datasets import Dataset, Image, ClassLabel  # Import custom 'Dataset', 'ClassLabel', and 'Image' classes\n",
    "from transformers import (  # Import various modules from the Transformers library\n",
    "    TrainingArguments,  # For training arguments\n",
    "    Trainer,  # For model training\n",
    "    ViTImageProcessor,  # For processing image data with ViT models\n",
    "    ViTForImageClassification,  # ViT model for image classification\n",
    "    DefaultDataCollator  # For collating data in the default way\n",
    ")\n",
    "import torch  # Import PyTorch for deep learning\n",
    "from torch.utils.data import DataLoader  # For creating data loaders\n",
    "from torchvision.transforms import (  # Import image transformation functions\n",
    "    CenterCrop,  # Center crop an image\n",
    "    Compose,  # Compose multiple image transformations\n",
    "    Normalize,  # Normalize image pixel values\n",
    "    RandomRotation,  # Apply random rotation to images\n",
    "    RandomResizedCrop,  # Crop and resize images randomly\n",
    "    RandomHorizontalFlip,  # Apply random horizontal flip\n",
    "    RandomAdjustSharpness,  # Adjust sharpness randomly\n",
    "    Resize,  # Resize images\n",
    "    ToTensor  # Convert images to PyTorch tensors\n",
    ")"
   ]
  },
  {
   "cell_type": "code",
   "execution_count": 3,
   "metadata": {
    "execution": {
     "iopub.execute_input": "2024-03-17T17:44:40.469112Z",
     "iopub.status.busy": "2024-03-17T17:44:40.468348Z",
     "iopub.status.idle": "2024-03-17T17:44:40.475076Z",
     "shell.execute_reply": "2024-03-17T17:44:40.474199Z",
     "shell.execute_reply.started": "2024-03-17T17:44:40.469083Z"
    },
    "trusted": true
   },
   "outputs": [],
   "source": [
    "# Import the necessary module from the Python Imaging Library (PIL).\n",
    "from PIL import ImageFile\n",
    "\n",
    "# Enable the option to load truncated images.\n",
    "# This setting allows the PIL library to attempt loading images even if they are corrupted or incomplete.\n",
    "ImageFile.LOAD_TRUNCATED_IMAGES = True"
   ]
  },
  {
   "cell_type": "code",
   "execution_count": null,
   "metadata": {
    "execution": {
     "iopub.execute_input": "2024-03-17T17:44:40.478326Z",
     "iopub.status.busy": "2024-03-17T17:44:40.477982Z",
     "iopub.status.idle": "2024-03-17T17:44:44.857971Z",
     "shell.execute_reply": "2024-03-17T17:44:44.857059Z",
     "shell.execute_reply.started": "2024-03-17T17:44:40.478294Z"
    },
    "trusted": true
   },
   "outputs": [
    {
     "name": "stderr",
     "output_type": "stream",
     "text": [
      "100%|██████████| 9778/9778 [00:00<00:00, 225504.93it/s]"
     ]
    },
    {
     "name": "stdout",
     "output_type": "stream",
     "text": [
      "9778 9778\n",
      "(9778, 2)\n"
     ]
    },
    {
     "name": "stderr",
     "output_type": "stream",
     "text": [
      "\n"
     ]
    }
   ],
   "source": [
    "# use https://huggingface.co/docs/datasets/image_load for reference\n",
    "\n",
    "# Import necessary libraries\n",
    "image_dict = {}\n",
    "\n",
    "# Define the list of file names\n",
    "from pathlib import Path\n",
    "from tqdm import tqdm\n",
    "import os\n",
    "# Initialize empty lists to store file names and labels\n",
    "file_names = []\n",
    "labels = []\n",
    "\n",
    "label_dict = {'001': '01', '002': '02', '003': '03', '004': '04', '005': '05', \n",
    "              '006': '06-07', '007': '06-07', '008': '08-09', '009': '08-09', \n",
    "              '010': '10-12', '011': '10-12', '012': '10-12', '013': '13-15', \n",
    "              '014': '13-15', '015': '13-15', '016': '16-20', '017': '16-20', \n",
    "              '018': '16-20', '019': '16-20', '020': '16-20', '021': '21-25', \n",
    "              '022': '21-25', '023': '21-25', '024': '21-25', '025': '21-25', \n",
    "              '026': '26-30', '027': '26-30', '028': '26-30', '029': '26-30', \n",
    "              '030': '26-30', '031': '31-35', '032': '31-35', '033': '31-35', \n",
    "              '034': '31-35', '035': '31-35', '036': '36-40', '037': '36-40', \n",
    "              '038': '36-40', '039': '36-40', '040': '36-40', '041': '41-45', \n",
    "              '042': '41-45', '043': '41-45', '044': '41-45', '045': '41-45', \n",
    "              '046': '46-50', '047': '46-50', '048': '46-50', '049': '46-50', \n",
    "              '050': '46-50', '051': '51-55', '052': '51-55', '053': '51-55', \n",
    "              '054': '51-55', '055': '51-55', '056': '56-60', '057': '56-60', \n",
    "              '058': '56-60', '059': '56-60', '060': '56-60', '061': '61-65', \n",
    "              '062': '61-65', '063': '61-65', '064': '61-65', '065': '61-65', \n",
    "              '066': '66-70', '067': '66-70', '068': '66-70', '069': '66-70', \n",
    "              '070': '66-70', '071': '71-80', '072': '71-80', '073': '71-80', \n",
    "              '074': '71-80', '075': '71-80', '076': '71-80', '077': '71-80', \n",
    "              '078': '71-80', '079': '71-80', '080': '71-80', '081': '81-90', \n",
    "              '082': '81-90', '083': '81-90', '084': '81-90', '085': '81-90', \n",
    "              '086': '81-90', '087': '81-90', '088': '81-90', '089': '81-90', \n",
    "              '090': '81-90', '091': '90+', '092': '90+', '093': '90+', \n",
    "              '095': '90+', '096': '90+', '099': '90+', '100': '90+', \n",
    "              '101': '90+', '110': '90+'}\n",
    "\n",
    "# Iterate through all image files in the specified directory\n",
    "for file in tqdm(sorted((Path('/opt/app-root/data/face_age/').glob('*/*.*')))):\n",
    "    label = str(file).split('/')[-2]  # Extract the label from the file path\n",
    "    labels.append(label_dict[label])  # Add the label to the list\n",
    "    file_names.append(str(file))  # Add the file path to the list\n",
    "\n",
    "# Print the total number of file names and labels\n",
    "print(len(file_names), len(labels))\n",
    "\n",
    "# Create a pandas dataframe from the collected file names and labels\n",
    "df = pd.DataFrame.from_dict({\"image\": file_names, \"label\": labels})\n",
    "print(df.shape)"
   ]
  },
  {
   "cell_type": "code",
   "execution_count": 5,
   "metadata": {
    "execution": {
     "iopub.execute_input": "2024-03-17T17:44:44.859498Z",
     "iopub.status.busy": "2024-03-17T17:44:44.859203Z",
     "iopub.status.idle": "2024-03-17T17:44:44.876633Z",
     "shell.execute_reply": "2024-03-17T17:44:44.875776Z",
     "shell.execute_reply.started": "2024-03-17T17:44:44.859472Z"
    },
    "trusted": true
   },
   "outputs": [
    {
     "data": {
      "text/html": [
       "<div>\n",
       "<style scoped>\n",
       "    .dataframe tbody tr th:only-of-type {\n",
       "        vertical-align: middle;\n",
       "    }\n",
       "\n",
       "    .dataframe tbody tr th {\n",
       "        vertical-align: top;\n",
       "    }\n",
       "\n",
       "    .dataframe thead th {\n",
       "        text-align: right;\n",
       "    }\n",
       "</style>\n",
       "<table border=\"1\" class=\"dataframe\">\n",
       "  <thead>\n",
       "    <tr style=\"text-align: right;\">\n",
       "      <th></th>\n",
       "      <th>image</th>\n",
       "      <th>label</th>\n",
       "    </tr>\n",
       "  </thead>\n",
       "  <tbody>\n",
       "    <tr>\n",
       "      <th>0</th>\n",
       "      <td>/kaggle/input/facial-age/face_age/001/1000.png</td>\n",
       "      <td>01</td>\n",
       "    </tr>\n",
       "    <tr>\n",
       "      <th>1</th>\n",
       "      <td>/kaggle/input/facial-age/face_age/001/1018.png</td>\n",
       "      <td>01</td>\n",
       "    </tr>\n",
       "    <tr>\n",
       "      <th>2</th>\n",
       "      <td>/kaggle/input/facial-age/face_age/001/1030.png</td>\n",
       "      <td>01</td>\n",
       "    </tr>\n",
       "    <tr>\n",
       "      <th>3</th>\n",
       "      <td>/kaggle/input/facial-age/face_age/001/1062.png</td>\n",
       "      <td>01</td>\n",
       "    </tr>\n",
       "    <tr>\n",
       "      <th>4</th>\n",
       "      <td>/kaggle/input/facial-age/face_age/001/1068.png</td>\n",
       "      <td>01</td>\n",
       "    </tr>\n",
       "  </tbody>\n",
       "</table>\n",
       "</div>"
      ],
      "text/plain": [
       "                                            image label\n",
       "0  /kaggle/input/facial-age/face_age/001/1000.png    01\n",
       "1  /kaggle/input/facial-age/face_age/001/1018.png    01\n",
       "2  /kaggle/input/facial-age/face_age/001/1030.png    01\n",
       "3  /kaggle/input/facial-age/face_age/001/1062.png    01\n",
       "4  /kaggle/input/facial-age/face_age/001/1068.png    01"
      ]
     },
     "execution_count": 5,
     "metadata": {},
     "output_type": "execute_result"
    }
   ],
   "source": [
    "df.head()"
   ]
  },
  {
   "cell_type": "code",
   "execution_count": 6,
   "metadata": {
    "execution": {
     "iopub.execute_input": "2024-03-17T17:44:44.878123Z",
     "iopub.status.busy": "2024-03-17T17:44:44.877829Z",
     "iopub.status.idle": "2024-03-17T17:44:44.901561Z",
     "shell.execute_reply": "2024-03-17T17:44:44.900673Z",
     "shell.execute_reply.started": "2024-03-17T17:44:44.878087Z"
    },
    "trusted": true
   },
   "outputs": [
    {
     "data": {
      "text/plain": [
       "array(['01', '02', '03', '04', '05', '06-07', '08-09', '10-12', '13-15',\n",
       "       '16-20', '21-25', '26-30', '31-35', '36-40', '41-45', '46-50',\n",
       "       '51-55', '56-60', '61-65', '66-70', '71-80', '81-90', '90+'],\n",
       "      dtype=object)"
      ]
     },
     "execution_count": 6,
     "metadata": {},
     "output_type": "execute_result"
    }
   ],
   "source": [
    "df['label'].unique()"
   ]
  },
  {
   "cell_type": "code",
   "execution_count": 7,
   "metadata": {
    "execution": {
     "iopub.execute_input": "2024-03-17T17:44:44.903005Z",
     "iopub.status.busy": "2024-03-17T17:44:44.902694Z",
     "iopub.status.idle": "2024-03-17T17:44:45.227320Z",
     "shell.execute_reply": "2024-03-17T17:44:45.226429Z",
     "shell.execute_reply.started": "2024-03-17T17:44:44.902981Z"
    },
    "trusted": true
   },
   "outputs": [
    {
     "name": "stdout",
     "output_type": "stream",
     "text": [
      "(25576, 2)\n"
     ]
    }
   ],
   "source": [
    "# random oversampling of minority class\n",
    "# 'y' contains the target variable (label) we want to predict\n",
    "y = df[['label']]\n",
    "\n",
    "# Drop the 'label' column from the DataFrame 'df' to separate features from the target variable\n",
    "df = df.drop(['label'], axis=1)\n",
    "\n",
    "# Create a RandomOverSampler object with a specified random seed (random_state=83)\n",
    "ros = RandomOverSampler(random_state=83)\n",
    "\n",
    "# Use the RandomOverSampler to resample the dataset by oversampling the minority class\n",
    "# 'df' contains the feature data, and 'y_resampled' will contain the resampled target variable\n",
    "df, y_resampled = ros.fit_resample(df, y)\n",
    "\n",
    "# Delete the original 'y' variable to save memory as it's no longer needed\n",
    "del y\n",
    "\n",
    "# Add the resampled target variable 'y_resampled' as a new 'label' column in the DataFrame 'df'\n",
    "df['label'] = y_resampled\n",
    "\n",
    "# Delete the 'y_resampled' variable to save memory as it's no longer needed\n",
    "del y_resampled\n",
    "\n",
    "# Perform garbage collection to free up memory used by discarded variables\n",
    "gc.collect()\n",
    "\n",
    "print(df.shape)"
   ]
  },
  {
   "cell_type": "code",
   "execution_count": 8,
   "metadata": {
    "execution": {
     "iopub.execute_input": "2024-03-17T17:44:45.228595Z",
     "iopub.status.busy": "2024-03-17T17:44:45.228331Z",
     "iopub.status.idle": "2024-03-17T17:44:45.261609Z",
     "shell.execute_reply": "2024-03-17T17:44:45.260684Z",
     "shell.execute_reply.started": "2024-03-17T17:44:45.228573Z"
    },
    "trusted": true
   },
   "outputs": [],
   "source": [
    "# Create a dataset from a Pandas DataFrame.\n",
    "dataset = Dataset.from_pandas(df).cast_column(\"image\", Image())"
   ]
  },
  {
   "cell_type": "code",
   "execution_count": 9,
   "metadata": {
    "execution": {
     "iopub.execute_input": "2024-03-17T17:44:45.263263Z",
     "iopub.status.busy": "2024-03-17T17:44:45.262966Z",
     "iopub.status.idle": "2024-03-17T17:44:45.303543Z",
     "shell.execute_reply": "2024-03-17T17:44:45.302662Z",
     "shell.execute_reply.started": "2024-03-17T17:44:45.263238Z"
    },
    "trusted": true
   },
   "outputs": [
    {
     "data": {
      "image/png": "[encoded data removed]",
      "text/plain": [
       "<PIL.PngImagePlugin.PngImageFile image mode=RGB size=200x200>"
      ]
     },
     "execution_count": 9,
     "metadata": {},
     "output_type": "execute_result"
    }
   ],
   "source": [
    "# Display the first image in the dataset\n",
    "dataset[0][\"image\"]"
   ]
  },
  {
   "cell_type": "code",
   "execution_count": 10,
   "metadata": {
    "execution": {
     "iopub.execute_input": "2024-03-17T17:44:45.307401Z",
     "iopub.status.busy": "2024-03-17T17:44:45.307079Z",
     "iopub.status.idle": "2024-03-17T17:44:45.312353Z",
     "shell.execute_reply": "2024-03-17T17:44:45.311454Z",
     "shell.execute_reply.started": "2024-03-17T17:44:45.307377Z"
    },
    "trusted": true
   },
   "outputs": [
    {
     "name": "stdout",
     "output_type": "stream",
     "text": [
      "['01', '01', '01', '01', '01']\n"
     ]
    }
   ],
   "source": [
    "# Extracting a subset of elements from the 'labels' list using slicing.\n",
    "# The slicing syntax [:5] selects elements from the beginning up to (but not including) the 5th element.\n",
    "# This will give us the first 5 elements of the 'labels' list.\n",
    "# The result will be a new list containing these elements.\n",
    "labels_subset = labels[:5]\n",
    "\n",
    "# Printing the subset of labels to inspect the content.\n",
    "print(labels_subset)"
   ]
  },
  {
   "cell_type": "code",
   "execution_count": 11,
   "metadata": {
    "execution": {
     "iopub.execute_input": "2024-03-17T17:44:45.313578Z",
     "iopub.status.busy": "2024-03-17T17:44:45.313342Z",
     "iopub.status.idle": "2024-03-17T17:44:45.326115Z",
     "shell.execute_reply": "2024-03-17T17:44:45.325137Z",
     "shell.execute_reply.started": "2024-03-17T17:44:45.313557Z"
    },
    "trusted": true
   },
   "outputs": [
    {
     "name": "stdout",
     "output_type": "stream",
     "text": [
      "Mapping of IDs to Labels: {0: '01', 1: '02', 2: '03', 3: '04', 4: '05', 5: '06-07', 6: '08-09', 7: '10-12', 8: '13-15', 9: '16-20', 10: '21-25', 11: '26-30', 12: '31-35', 13: '36-40', 14: '41-45', 15: '46-50', 16: '51-55', 17: '56-60', 18: '61-65', 19: '66-70', 20: '71-80', 21: '81-90', 22: '90+'} \n",
      "\n",
      "Mapping of Labels to IDs: {'01': 0, '02': 1, '03': 2, '04': 3, '05': 4, '06-07': 5, '08-09': 6, '10-12': 7, '13-15': 8, '16-20': 9, '21-25': 10, '26-30': 11, '31-35': 12, '36-40': 13, '41-45': 14, '46-50': 15, '51-55': 16, '56-60': 17, '61-65': 18, '66-70': 19, '71-80': 20, '81-90': 21, '90+': 22}\n"
     ]
    }
   ],
   "source": [
    "# Create a list of unique labels by converting 'labels' to a set and then back to a list\n",
    "labels_list = sorted(list(set(labels)))\n",
    "\n",
    "# Initialize empty dictionaries to map labels to IDs and vice versa\n",
    "label2id, id2label = dict(), dict()\n",
    "\n",
    "# Iterate over the unique labels and assign each label an ID, and vice versa\n",
    "for i, label in enumerate(labels_list):\n",
    "    label2id[label] = i  # Map the label to its corresponding ID\n",
    "    id2label[i] = label  # Map the ID to its corresponding label\n",
    "\n",
    "# Print the resulting dictionaries for reference\n",
    "print(\"Mapping of IDs to Labels:\", id2label, '\\n')\n",
    "print(\"Mapping of Labels to IDs:\", label2id)"
   ]
  },
  {
   "cell_type": "code",
   "execution_count": 12,
   "metadata": {
    "execution": {
     "iopub.execute_input": "2024-03-17T17:44:45.327495Z",
     "iopub.status.busy": "2024-03-17T17:44:45.327159Z",
     "iopub.status.idle": "2024-03-17T17:44:45.497901Z",
     "shell.execute_reply": "2024-03-17T17:44:45.497192Z",
     "shell.execute_reply.started": "2024-03-17T17:44:45.327460Z"
    },
    "trusted": true
   },
   "outputs": [
    {
     "data": {
      "application/vnd.jupyter.widget-view+json": {
       "model_id": "46ff48e47d1b416b9277abe42d2652a4",
       "version_major": 2,
       "version_minor": 0
      },
      "text/plain": [
       "Map:   0%|          | 0/25576 [00:00<?, ? examples/s]"
      ]
     },
     "metadata": {},
     "output_type": "display_data"
    },
    {
     "data": {
      "application/vnd.jupyter.widget-view+json": {
       "model_id": "404f0ead21714ac8b2ceef36590f0484",
       "version_major": 2,
       "version_minor": 0
      },
      "text/plain": [
       "Casting the dataset:   0%|          | 0/25576 [00:00<?, ? examples/s]"
      ]
     },
     "metadata": {},
     "output_type": "display_data"
    }
   ],
   "source": [
    "# Creating classlabels to match labels to IDs\n",
    "ClassLabels = ClassLabel(num_classes=len(labels_list), names=labels_list)\n",
    "\n",
    "# Mapping labels to IDs\n",
    "def map_label2id(example):\n",
    "    example['label'] = ClassLabels.str2int(example['label'])\n",
    "    return example\n",
    "\n",
    "dataset = dataset.map(map_label2id, batched=True)\n",
    "\n",
    "# Casting label column to ClassLabel Object\n",
    "dataset = dataset.cast_column('label', ClassLabels)\n",
    "\n",
    "# Splitting the dataset into training and testing sets using an 60-40 split ratio.\n",
    "dataset = dataset.train_test_split(test_size=0.4, shuffle=True, stratify_by_column=\"label\")\n",
    "\n",
    "# Extracting the training data from the split dataset.\n",
    "train_data = dataset['train']\n",
    "\n",
    "# Extracting the testing data from the split dataset.\n",
    "test_data = dataset['test']"
   ]
  },
  {
   "cell_type": "code",
   "execution_count": 13,
   "metadata": {
    "execution": {
     "iopub.execute_input": "2024-03-17T17:44:45.499819Z",
     "iopub.status.busy": "2024-03-17T17:44:45.499159Z",
     "iopub.status.idle": "2024-03-17T17:44:45.834020Z",
     "shell.execute_reply": "2024-03-17T17:44:45.833155Z",
     "shell.execute_reply.started": "2024-03-17T17:44:45.499784Z"
    },
    "trusted": true
   },
   "outputs": [
    {
     "data": {
      "application/vnd.jupyter.widget-view+json": {
       "model_id": "79043b5002334e50b3133cbfbb2a576a",
       "version_major": 2,
       "version_minor": 0
      },
      "text/plain": [
       "preprocessor_config.json:   0%|          | 0.00/325 [00:00<?, ?B/s]"
      ]
     },
     "metadata": {},
     "output_type": "display_data"
    },
    {
     "name": "stdout",
     "output_type": "stream",
     "text": [
      "Size:  224\n"
     ]
    }
   ],
   "source": [
    "# Define the pre-trained ViT model string\n",
    "model_str = \"dima806/facial_age_image_detection\" # 'google/vit-base-patch16-224-in21k'\n",
    "\n",
    "# Create a processor for ViT model input from the pre-trained model\n",
    "processor = ViTImageProcessor.from_pretrained(model_str)\n",
    "\n",
    "# Retrieve the image mean and standard deviation used for normalization\n",
    "image_mean, image_std = processor.image_mean, processor.image_std\n",
    "\n",
    "# Get the size (height) of the ViT model's input images\n",
    "size = processor.size[\"height\"]\n",
    "print(\"Size: \", size)\n",
    "\n",
    "# Define a normalization transformation for the input images\n",
    "normalize = Normalize(mean=image_mean, std=image_std)\n",
    "\n",
    "# Define a set of transformations for training data\n",
    "_train_transforms = Compose(\n",
    "    [\n",
    "        Resize((size, size)),             # Resize images to the ViT model's input size\n",
    "        RandomRotation(90),               # Apply random rotation\n",
    "        RandomAdjustSharpness(2),         # Adjust sharpness randomly\n",
    "        RandomHorizontalFlip(0.5),        # Random horizontal flip\n",
    "        ToTensor(),                       # Convert images to tensors\n",
    "        normalize                         # Normalize images using mean and std\n",
    "    ]\n",
    ")\n",
    "\n",
    "# Define a set of transformations for validation data\n",
    "_val_transforms = Compose(\n",
    "    [\n",
    "        Resize((size, size)),             # Resize images to the ViT model's input size\n",
    "        ToTensor(),                       # Convert images to tensors\n",
    "        normalize                         # Normalize images using mean and std\n",
    "    ]\n",
    ")\n",
    "\n",
    "# Define a function to apply training transformations to a batch of examples\n",
    "def train_transforms(examples):\n",
    "    examples['pixel_values'] = [_train_transforms(image.convert(\"RGB\")) for image in examples['image']]\n",
    "    return examples\n",
    "\n",
    "# Define a function to apply validation transformations to a batch of examples\n",
    "def val_transforms(examples):\n",
    "    examples['pixel_values'] = [_val_transforms(image.convert(\"RGB\")) for image in examples['image']]\n",
    "    return examples"
   ]
  },
  {
   "cell_type": "code",
   "execution_count": 14,
   "metadata": {
    "execution": {
     "iopub.execute_input": "2024-03-17T17:44:45.835532Z",
     "iopub.status.busy": "2024-03-17T17:44:45.835255Z",
     "iopub.status.idle": "2024-03-17T17:44:45.848220Z",
     "shell.execute_reply": "2024-03-17T17:44:45.847339Z",
     "shell.execute_reply.started": "2024-03-17T17:44:45.835507Z"
    },
    "trusted": true
   },
   "outputs": [],
   "source": [
    "# Set the transforms for the training data\n",
    "train_data.set_transform(train_transforms)\n",
    "\n",
    "# Set the transforms for the test/validation data\n",
    "test_data.set_transform(val_transforms)"
   ]
  },
  {
   "cell_type": "code",
   "execution_count": 15,
   "metadata": {
    "execution": {
     "iopub.execute_input": "2024-03-17T17:44:45.849584Z",
     "iopub.status.busy": "2024-03-17T17:44:45.849309Z",
     "iopub.status.idle": "2024-03-17T17:44:45.864136Z",
     "shell.execute_reply": "2024-03-17T17:44:45.863279Z",
     "shell.execute_reply.started": "2024-03-17T17:44:45.849562Z"
    },
    "trusted": true
   },
   "outputs": [],
   "source": [
    "# Define a collate function that prepares batched data for model training.\n",
    "def collate_fn(examples):\n",
    "    # Stack the pixel values from individual examples into a single tensor.\n",
    "    pixel_values = torch.stack([example[\"pixel_values\"] for example in examples])\n",
    "    \n",
    "    # Convert the label strings in examples to corresponding numeric IDs using label2id dictionary.\n",
    "    labels = torch.tensor([example['label'] for example in examples])\n",
    "    \n",
    "    # Return a dictionary containing the batched pixel values and labels.\n",
    "    return {\"pixel_values\": pixel_values, \"labels\": labels}"
   ]
  },
  {
   "cell_type": "markdown",
   "metadata": {},
   "source": [
    "# Load, train, and evaluate model"
   ]
  },
  {
   "cell_type": "code",
   "execution_count": 16,
   "metadata": {
    "execution": {
     "iopub.execute_input": "2024-03-17T17:44:45.865559Z",
     "iopub.status.busy": "2024-03-17T17:44:45.865237Z",
     "iopub.status.idle": "2024-03-17T17:44:49.254659Z",
     "shell.execute_reply": "2024-03-17T17:44:49.253607Z",
     "shell.execute_reply.started": "2024-03-17T17:44:45.865528Z"
    },
    "trusted": true
   },
   "outputs": [
    {
     "data": {
      "application/vnd.jupyter.widget-view+json": {
       "model_id": "7258cfeef8cd49b89ba821a473c3346c",
       "version_major": 2,
       "version_minor": 0
      },
      "text/plain": [
       "config.json:   0%|          | 0.00/1.43k [00:00<?, ?B/s]"
      ]
     },
     "metadata": {},
     "output_type": "display_data"
    },
    {
     "data": {
      "application/vnd.jupyter.widget-view+json": {
       "model_id": "2c12ad7f2e734f74a12354e289d3c398",
       "version_major": 2,
       "version_minor": 0
      },
      "text/plain": [
       "model.safetensors:   0%|          | 0.00/343M [00:00<?, ?B/s]"
      ]
     },
     "metadata": {},
     "output_type": "display_data"
    },
    {
     "name": "stdout",
     "output_type": "stream",
     "text": [
      "85.816343\n"
     ]
    }
   ],
   "source": [
    "# Create a ViTForImageClassification model from a pretrained checkpoint with a specified number of output labels.\n",
    "model = ViTForImageClassification.from_pretrained(model_str, num_labels=len(labels_list))\n",
    "\n",
    "# Configure the mapping of class labels to their corresponding indices for later reference.\n",
    "model.config.id2label = id2label\n",
    "model.config.label2id = label2id\n",
    "\n",
    "# Calculate and print the number of trainable parameters in millions for the model.\n",
    "print(model.num_parameters(only_trainable=True) / 1e6)"
   ]
  },
  {
   "cell_type": "code",
   "execution_count": 17,
   "metadata": {
    "execution": {
     "iopub.execute_input": "2024-03-17T17:44:49.258255Z",
     "iopub.status.busy": "2024-03-17T17:44:49.257795Z",
     "iopub.status.idle": "2024-03-17T17:44:50.157131Z",
     "shell.execute_reply": "2024-03-17T17:44:50.156412Z",
     "shell.execute_reply.started": "2024-03-17T17:44:49.258198Z"
    },
    "trusted": true
   },
   "outputs": [
    {
     "data": {
      "application/vnd.jupyter.widget-view+json": {
       "model_id": "31cb6a07a2f349928b43aa63f6e90519",
       "version_major": 2,
       "version_minor": 0
      },
      "text/plain": [
       "Downloading builder script:   0%|          | 0.00/4.20k [00:00<?, ?B/s]"
      ]
     },
     "metadata": {},
     "output_type": "display_data"
    }
   ],
   "source": [
    "# Load the accuracy metric from a module named 'evaluate'\n",
    "accuracy = evaluate.load(\"accuracy\")\n",
    "\n",
    "# Define a function 'compute_metrics' to calculate evaluation metrics\n",
    "def compute_metrics(eval_pred):\n",
    "    # Extract model predictions from the evaluation prediction object\n",
    "    predictions = eval_pred.predictions\n",
    "    \n",
    "    # Extract true labels from the evaluation prediction object\n",
    "    label_ids = eval_pred.label_ids\n",
    "    \n",
    "    # Calculate accuracy using the loaded accuracy metric\n",
    "    # Convert model predictions to class labels by selecting the class with the highest probability (argmax)\n",
    "    predicted_labels = predictions.argmax(axis=1)\n",
    "    \n",
    "    # Calculate accuracy score by comparing predicted labels to true labels\n",
    "    acc_score = accuracy.compute(predictions=predicted_labels, references=label_ids)['accuracy']\n",
    "    \n",
    "    # Return the computed accuracy as a dictionary with the key \"accuracy\"\n",
    "    return {\n",
    "        \"accuracy\": acc_score\n",
    "    }"
   ]
  },
  {
   "cell_type": "code",
   "execution_count": 18,
   "metadata": {
    "execution": {
     "iopub.execute_input": "2024-03-17T17:44:50.158598Z",
     "iopub.status.busy": "2024-03-17T17:44:50.158298Z",
     "iopub.status.idle": "2024-03-17T17:44:50.224287Z",
     "shell.execute_reply": "2024-03-17T17:44:50.223363Z",
     "shell.execute_reply.started": "2024-03-17T17:44:50.158573Z"
    },
    "trusted": true
   },
   "outputs": [],
   "source": [
    "# Define the name of the evaluation metric to be used during training and evaluation.\n",
    "metric_name = \"accuracy\"\n",
    "\n",
    "# Define the name of the model, which will be used to create a directory for saving model checkpoints and outputs.\n",
    "model_name = \"facial_age_image_detection\"\n",
    "\n",
    "# Define the number of training epochs for the model.\n",
    "num_train_epochs = 30\n",
    "\n",
    "# Create an instance of TrainingArguments to configure training settings.\n",
    "args = TrainingArguments(\n",
    "    # Specify the directory where model checkpoints and outputs will be saved.\n",
    "    output_dir=model_name,\n",
    "    \n",
    "    # Specify the directory where training logs will be stored.\n",
    "    logging_dir='./logs',\n",
    "    \n",
    "    # Define the evaluation strategy, which is performed at the end of each epoch.\n",
    "    evaluation_strategy=\"epoch\",\n",
    "    \n",
    "    # Set the learning rate for the optimizer.\n",
    "    learning_rate=1e-7,\n",
    "    \n",
    "    # Define the batch size for training on each device.\n",
    "    per_device_train_batch_size=64,\n",
    "    \n",
    "    # Define the batch size for evaluation on each device.\n",
    "    per_device_eval_batch_size=32,\n",
    "    \n",
    "    # Specify the total number of training epochs.\n",
    "    num_train_epochs=num_train_epochs,\n",
    "    \n",
    "    # Apply weight decay to prevent overfitting.\n",
    "    weight_decay=0.02,\n",
    "    \n",
    "    # Set the number of warm-up steps for the learning rate scheduler.\n",
    "    warmup_steps=50,\n",
    "    \n",
    "    # Disable the removal of unused columns from the dataset.\n",
    "    remove_unused_columns=False,\n",
    "    \n",
    "    # Define the strategy for saving model checkpoints (per epoch in this case).\n",
    "    save_strategy='epoch',\n",
    "    \n",
    "    # Load the best model at the end of training.\n",
    "    load_best_model_at_end=True,\n",
    "    \n",
    "    # Limit the total number of saved checkpoints to save space.\n",
    "    save_total_limit=1,\n",
    "    \n",
    "    # Specify that training progress should not be reported\n",
    "    report_to=\"none\"  # log to none\n",
    ")"
   ]
  },
  {
   "cell_type": "code",
   "execution_count": 19,
   "metadata": {
    "execution": {
     "iopub.execute_input": "2024-03-17T17:44:50.225703Z",
     "iopub.status.busy": "2024-03-17T17:44:50.225425Z",
     "iopub.status.idle": "2024-03-17T17:44:50.808849Z",
     "shell.execute_reply": "2024-03-17T17:44:50.807783Z",
     "shell.execute_reply.started": "2024-03-17T17:44:50.225679Z"
    },
    "trusted": true
   },
   "outputs": [],
   "source": [
    "# Create a Trainer instance for fine-tuning a language model.\n",
    "\n",
    "# - `model`: The pre-trained language model to be fine-tuned.\n",
    "# - `args`: Configuration settings and hyperparameters for training.\n",
    "# - `train_dataset`: The dataset used for training the model.\n",
    "# - `eval_dataset`: The dataset used for evaluating the model during training.\n",
    "# - `data_collator`: A function that defines how data batches are collated and processed.\n",
    "# - `compute_metrics`: A function for computing custom evaluation metrics.\n",
    "# - `tokenizer`: The tokenizer used for processing text data.\n",
    "\n",
    "trainer = Trainer(\n",
    "    model,\n",
    "    args,\n",
    "    train_dataset=train_data,\n",
    "    eval_dataset=test_data,\n",
    "    data_collator=collate_fn,\n",
    "    compute_metrics=compute_metrics,\n",
    "    tokenizer=processor,\n",
    ")"
   ]
  },
  {
   "cell_type": "code",
   "execution_count": 20,
   "metadata": {
    "execution": {
     "iopub.execute_input": "2024-03-17T17:44:50.810450Z",
     "iopub.status.busy": "2024-03-17T17:44:50.810075Z",
     "iopub.status.idle": "2024-03-17T17:47:15.311416Z",
     "shell.execute_reply": "2024-03-17T17:47:15.310491Z",
     "shell.execute_reply.started": "2024-03-17T17:44:50.810418Z"
    },
    "trusted": true
   },
   "outputs": [
    {
     "data": {
      "text/html": [
       "\n",
       "    <div>\n",
       "      \n",
       "      <progress value='476' max='320' style='width:300px; height:20px; vertical-align: middle;'></progress>\n",
       "      [320/320 09:18]\n",
       "    </div>\n",
       "    "
      ],
      "text/plain": [
       "<IPython.core.display.HTML object>"
      ]
     },
     "metadata": {},
     "output_type": "display_data"
    },
    {
     "data": {
      "text/plain": [
       "{'eval_loss': 1.131181240081787,\n",
       " 'eval_accuracy': 0.6190010751637182,\n",
       " 'eval_runtime': 144.4951,\n",
       " 'eval_samples_per_second': 70.805,\n",
       " 'eval_steps_per_second': 2.215}"
      ]
     },
     "execution_count": 20,
     "metadata": {},
     "output_type": "execute_result"
    }
   ],
   "source": [
    "# Evaluate the pre-training model's performance on a test dataset.\n",
    "# This function calculates various metrics such as accuracy, loss, etc.,\n",
    "# to assess how well the model is performing on unseen data.\n",
    "\n",
    "trainer.evaluate()"
   ]
  },
  {
   "cell_type": "code",
   "execution_count": 21,
   "metadata": {
    "execution": {
     "iopub.execute_input": "2024-03-17T17:47:15.312921Z",
     "iopub.status.busy": "2024-03-17T17:47:15.312604Z",
     "iopub.status.idle": "2024-03-17T21:32:25.822293Z",
     "shell.execute_reply": "2024-03-17T21:32:25.821296Z",
     "shell.execute_reply.started": "2024-03-17T17:47:15.312895Z"
    },
    "trusted": true
   },
   "outputs": [
    {
     "data": {
      "text/html": [
       "\n",
       "    <div>\n",
       "      \n",
       "      <progress value='7200' max='7200' style='width:300px; height:20px; vertical-align: middle;'></progress>\n",
       "      [7200/7200 3:45:07, Epoch 30/30]\n",
       "    </div>\n",
       "    <table border=\"1\" class=\"dataframe\">\n",
       "  <thead>\n",
       " <tr style=\"text-align: left;\">\n",
       "      <th>Epoch</th>\n",
       "      <th>Training Loss</th>\n",
       "      <th>Validation Loss</th>\n",
       "      <th>Accuracy</th>\n",
       "    </tr>\n",
       "  </thead>\n",
       "  <tbody>\n",
       "    <tr>\n",
       "      <td>1</td>\n",
       "      <td>No log</td>\n",
       "      <td>1.134137</td>\n",
       "      <td>0.618512</td>\n",
       "    </tr>\n",
       "    <tr>\n",
       "      <td>2</td>\n",
       "      <td>No log</td>\n",
       "      <td>1.137280</td>\n",
       "      <td>0.618708</td>\n",
       "    </tr>\n",
       "    <tr>\n",
       "      <td>3</td>\n",
       "      <td>1.343400</td>\n",
       "      <td>1.134245</td>\n",
       "      <td>0.619294</td>\n",
       "    </tr>\n",
       "    <tr>\n",
       "      <td>4</td>\n",
       "      <td>1.343400</td>\n",
       "      <td>1.140790</td>\n",
       "      <td>0.614407</td>\n",
       "    </tr>\n",
       "    <tr>\n",
       "      <td>5</td>\n",
       "      <td>1.323800</td>\n",
       "      <td>1.139830</td>\n",
       "      <td>0.614407</td>\n",
       "    </tr>\n",
       "    <tr>\n",
       "      <td>6</td>\n",
       "      <td>1.323800</td>\n",
       "      <td>1.142142</td>\n",
       "      <td>0.612843</td>\n",
       "    </tr>\n",
       "    <tr>\n",
       "      <td>7</td>\n",
       "      <td>1.300100</td>\n",
       "      <td>1.143417</td>\n",
       "      <td>0.612159</td>\n",
       "    </tr>\n",
       "    <tr>\n",
       "      <td>8</td>\n",
       "      <td>1.300100</td>\n",
       "      <td>1.144373</td>\n",
       "      <td>0.612550</td>\n",
       "    </tr>\n",
       "    <tr>\n",
       "      <td>9</td>\n",
       "      <td>1.284200</td>\n",
       "      <td>1.144329</td>\n",
       "      <td>0.612257</td>\n",
       "    </tr>\n",
       "    <tr>\n",
       "      <td>10</td>\n",
       "      <td>1.284200</td>\n",
       "      <td>1.145684</td>\n",
       "      <td>0.609911</td>\n",
       "    </tr>\n",
       "    <tr>\n",
       "      <td>11</td>\n",
       "      <td>1.289400</td>\n",
       "      <td>1.146631</td>\n",
       "      <td>0.608543</td>\n",
       "    </tr>\n",
       "    <tr>\n",
       "      <td>12</td>\n",
       "      <td>1.289400</td>\n",
       "      <td>1.146312</td>\n",
       "      <td>0.610791</td>\n",
       "    </tr>\n",
       "    <tr>\n",
       "      <td>13</td>\n",
       "      <td>1.266800</td>\n",
       "      <td>1.147498</td>\n",
       "      <td>0.610009</td>\n",
       "    </tr>\n",
       "    <tr>\n",
       "      <td>14</td>\n",
       "      <td>1.266800</td>\n",
       "      <td>1.148790</td>\n",
       "      <td>0.609520</td>\n",
       "    </tr>\n",
       "    <tr>\n",
       "      <td>15</td>\n",
       "      <td>1.251200</td>\n",
       "      <td>1.149023</td>\n",
       "      <td>0.608249</td>\n",
       "    </tr>\n",
       "    <tr>\n",
       "      <td>16</td>\n",
       "      <td>1.251200</td>\n",
       "      <td>1.146625</td>\n",
       "      <td>0.610986</td>\n",
       "    </tr>\n",
       "    <tr>\n",
       "      <td>17</td>\n",
       "      <td>1.253300</td>\n",
       "      <td>1.149623</td>\n",
       "      <td>0.608640</td>\n",
       "    </tr>\n",
       "    <tr>\n",
       "      <td>18</td>\n",
       "      <td>1.253300</td>\n",
       "      <td>1.149060</td>\n",
       "      <td>0.609325</td>\n",
       "    </tr>\n",
       "    <tr>\n",
       "      <td>19</td>\n",
       "      <td>1.241900</td>\n",
       "      <td>1.147529</td>\n",
       "      <td>0.609716</td>\n",
       "    </tr>\n",
       "    <tr>\n",
       "      <td>20</td>\n",
       "      <td>1.241900</td>\n",
       "      <td>1.149398</td>\n",
       "      <td>0.609911</td>\n",
       "    </tr>\n",
       "    <tr>\n",
       "      <td>21</td>\n",
       "      <td>1.239600</td>\n",
       "      <td>1.149185</td>\n",
       "      <td>0.608249</td>\n",
       "    </tr>\n",
       "    <tr>\n",
       "      <td>22</td>\n",
       "      <td>1.239600</td>\n",
       "      <td>1.149061</td>\n",
       "      <td>0.608445</td>\n",
       "    </tr>\n",
       "    <tr>\n",
       "      <td>23</td>\n",
       "      <td>1.237500</td>\n",
       "      <td>1.149722</td>\n",
       "      <td>0.609325</td>\n",
       "    </tr>\n",
       "    <tr>\n",
       "      <td>24</td>\n",
       "      <td>1.237500</td>\n",
       "      <td>1.149633</td>\n",
       "      <td>0.608640</td>\n",
       "    </tr>\n",
       "    <tr>\n",
       "      <td>25</td>\n",
       "      <td>1.237200</td>\n",
       "      <td>1.149503</td>\n",
       "      <td>0.608543</td>\n",
       "    </tr>\n",
       "    <tr>\n",
       "      <td>26</td>\n",
       "      <td>1.237200</td>\n",
       "      <td>1.149008</td>\n",
       "      <td>0.608543</td>\n",
       "    </tr>\n",
       "    <tr>\n",
       "      <td>27</td>\n",
       "      <td>1.237200</td>\n",
       "      <td>1.149373</td>\n",
       "      <td>0.608445</td>\n",
       "    </tr>\n",
       "    <tr>\n",
       "      <td>28</td>\n",
       "      <td>1.231500</td>\n",
       "      <td>1.150015</td>\n",
       "      <td>0.608347</td>\n",
       "    </tr>\n",
       "    <tr>\n",
       "      <td>29</td>\n",
       "      <td>1.231500</td>\n",
       "      <td>1.149958</td>\n",
       "      <td>0.608152</td>\n",
       "    </tr>\n",
       "    <tr>\n",
       "      <td>30</td>\n",
       "      <td>1.234600</td>\n",
       "      <td>1.149938</td>\n",
       "      <td>0.607956</td>\n",
       "    </tr>\n",
       "  </tbody>\n",
       "</table><p>"
      ],
      "text/plain": [
       "<IPython.core.display.HTML object>"
      ]
     },
     "metadata": {},
     "output_type": "display_data"
    },
    {
     "data": {
      "text/plain": [
       "TrainOutput(global_step=7200, training_loss=1.2658164193895127, metrics={'train_runtime': 13510.0314, 'train_samples_per_second': 34.075, 'train_steps_per_second': 0.533, 'total_flos': 3.5680151743533187e+19, 'train_loss': 1.2658164193895127, 'epoch': 30.0})"
      ]
     },
     "execution_count": 21,
     "metadata": {},
     "output_type": "execute_result"
    }
   ],
   "source": [
    "# Start training the model using the trainer object.\n",
    "trainer.train()"
   ]
  },
  {
   "cell_type": "code",
   "execution_count": 22,
   "metadata": {
    "execution": {
     "iopub.execute_input": "2024-03-17T21:32:25.823881Z",
     "iopub.status.busy": "2024-03-17T21:32:25.823581Z",
     "iopub.status.idle": "2024-03-17T21:34:06.464344Z",
     "shell.execute_reply": "2024-03-17T21:34:06.463394Z",
     "shell.execute_reply.started": "2024-03-17T21:32:25.823856Z"
    },
    "trusted": true
   },
   "outputs": [
    {
     "data": {
      "text/html": [],
      "text/plain": [
       "<IPython.core.display.HTML object>"
      ]
     },
     "metadata": {},
     "output_type": "display_data"
    },
    {
     "data": {
      "text/plain": [
       "{'eval_loss': 1.1341371536254883,\n",
       " 'eval_accuracy': 0.6185123643827583,\n",
       " 'eval_runtime': 100.6348,\n",
       " 'eval_samples_per_second': 101.665,\n",
       " 'eval_steps_per_second': 3.18,\n",
       " 'epoch': 30.0}"
      ]
     },
     "execution_count": 22,
     "metadata": {},
     "output_type": "execute_result"
    }
   ],
   "source": [
    "# Evaluate the post-training model's performance on the validation or test dataset.\n",
    "# This function computes various evaluation metrics like accuracy, loss, etc.\n",
    "# and provides insights into how well the model is performing.\n",
    "\n",
    "trainer.evaluate()"
   ]
  },
  {
   "cell_type": "code",
   "execution_count": 23,
   "metadata": {
    "execution": {
     "iopub.execute_input": "2024-03-17T21:34:06.465699Z",
     "iopub.status.busy": "2024-03-17T21:34:06.465410Z",
     "iopub.status.idle": "2024-03-17T21:35:47.050887Z",
     "shell.execute_reply": "2024-03-17T21:35:47.050096Z",
     "shell.execute_reply.started": "2024-03-17T21:34:06.465674Z"
    },
    "trusted": true
   },
   "outputs": [
    {
     "name": "stdout",
     "output_type": "stream",
     "text": [
      "{'test_loss': 1.1341371536254883, 'test_accuracy': 0.6185123643827583, 'test_runtime': 100.5797, 'test_samples_per_second': 101.72, 'test_steps_per_second': 3.182}\n"
     ]
    }
   ],
   "source": [
    "# Use the trained 'trainer' to make predictions on the 'test_data'.\n",
    "outputs = trainer.predict(test_data)\n",
    "\n",
    "# Print the metrics obtained from the prediction outputs.\n",
    "print(outputs.metrics)"
   ]
  },
  {
   "cell_type": "code",
   "execution_count": 24,
   "metadata": {
    "execution": {
     "iopub.execute_input": "2024-03-17T21:35:47.052591Z",
     "iopub.status.busy": "2024-03-17T21:35:47.052298Z",
     "iopub.status.idle": "2024-03-17T21:35:48.623910Z",
     "shell.execute_reply": "2024-03-17T21:35:48.622968Z",
     "shell.execute_reply.started": "2024-03-17T21:35:47.052565Z"
    },
    "trusted": true
   },
   "outputs": [
    {
     "name": "stdout",
     "output_type": "stream",
     "text": [
      "Accuracy: 0.6185\n",
      "F1 Score: 0.5970\n"
     ]
    },
    {
     "data": {
      "image/png": "[encoded data removed]",
      "text/plain": [
       "<Figure size 1200x1000 with 2 Axes>"
      ]
     },
     "metadata": {},
     "output_type": "display_data"
    },
    {
     "name": "stdout",
     "output_type": "stream",
     "text": [
      "\n",
      "Classification report:\n",
      "\n",
      "              precision    recall  f1-score   support\n",
      "\n",
      "          01     0.7341    0.9056    0.8109       445\n",
      "          02     0.4494    0.6787    0.5407       445\n",
      "          03     0.6978    0.2854    0.4051       445\n",
      "          04     0.8421    0.1438    0.2457       445\n",
      "          05     0.5707    0.9618    0.7163       445\n",
      "       06-07     0.7030    0.5798    0.6355       445\n",
      "       08-09     0.6500    0.8180    0.7244       445\n",
      "       10-12     0.6993    0.7056    0.7025       445\n",
      "       13-15     0.8034    0.7438    0.7725       445\n",
      "       16-20     0.7006    0.7416    0.7205       445\n",
      "       21-25     0.6796    0.6292    0.6534       445\n",
      "       26-30     0.4241    0.5843    0.4915       445\n",
      "       31-35     0.4654    0.2270    0.3051       445\n",
      "       36-40     0.4606    0.3416    0.3923       445\n",
      "       41-45     0.5074    0.6944    0.5863       445\n",
      "       46-50     0.4896    0.5811    0.5314       444\n",
      "       51-55     0.5158    0.5506    0.5326       445\n",
      "       56-60     0.5000    0.3491    0.4111       444\n",
      "       61-65     0.7083    0.1910    0.3009       445\n",
      "       66-70     0.4778    0.7995    0.5981       444\n",
      "       71-80     0.7687    0.7169    0.7419       445\n",
      "       81-90     0.8425    0.9978    0.9136       445\n",
      "         90+     0.9978    1.0000    0.9989       444\n",
      "\n",
      "    accuracy                         0.6185     10231\n",
      "   macro avg     0.6386    0.6185    0.5970     10231\n",
      "weighted avg     0.6386    0.6185    0.5970     10231\n",
      "\n"
     ]
    }
   ],
   "source": [
    "# Extract the true labels from the model outputs\n",
    "y_true = outputs.label_ids\n",
    "\n",
    "# Predict the labels by selecting the class with the highest probability\n",
    "y_pred = outputs.predictions.argmax(1)\n",
    "\n",
    "# Define a function to plot a confusion matrix\n",
    "def plot_confusion_matrix(cm, classes, title='Confusion Matrix', cmap=plt.cm.Blues, figsize=(10, 8)):\n",
    "    \"\"\"\n",
    "    This function plots a confusion matrix.\n",
    "\n",
    "    Parameters:\n",
    "        cm (array-like): Confusion matrix as returned by sklearn.metrics.confusion_matrix.\n",
    "        classes (list): List of class names, e.g., ['Class 0', 'Class 1'].\n",
    "        title (str): Title for the plot.\n",
    "        cmap (matplotlib colormap): Colormap for the plot.\n",
    "    \"\"\"\n",
    "    # Create a figure with a specified size\n",
    "    plt.figure(figsize=figsize)\n",
    "    \n",
    "    # Display the confusion matrix as an image with a colormap\n",
    "    plt.imshow(cm, interpolation='nearest', cmap=cmap)\n",
    "    plt.title(title)\n",
    "    plt.colorbar()\n",
    "\n",
    "    # Define tick marks and labels for the classes on the axes\n",
    "    tick_marks = np.arange(len(classes))\n",
    "    plt.xticks(tick_marks, classes, rotation=90)\n",
    "    plt.yticks(tick_marks, classes)\n",
    "\n",
    "    fmt = '.0f'\n",
    "    # Add text annotations to the plot indicating the values in the cells\n",
    "    thresh = cm.max() / 2.0\n",
    "    for i, j in itertools.product(range(cm.shape[0]), range(cm.shape[1])):\n",
    "        plt.text(j, i, format(cm[i, j], fmt), horizontalalignment=\"center\", color=\"white\" if cm[i, j] > thresh else \"black\")\n",
    "\n",
    "    # Label the axes\n",
    "    plt.ylabel('True label')\n",
    "    plt.xlabel('Predicted label')\n",
    "\n",
    "    # Ensure the plot layout is tight\n",
    "    plt.tight_layout()\n",
    "    # Display the plot\n",
    "    plt.show()\n",
    "\n",
    "# Calculate accuracy and F1 score\n",
    "accuracy = accuracy_score(y_true, y_pred)\n",
    "f1 = f1_score(y_true, y_pred, average='macro')\n",
    "\n",
    "# Display accuracy and F1 score\n",
    "print(f\"Accuracy: {accuracy:.4f}\")\n",
    "print(f\"F1 Score: {f1:.4f}\")\n",
    "\n",
    "# Get the confusion matrix if there are a small number of labels\n",
    "if len(labels_list) <= 250:\n",
    "    # Compute the confusion matrix\n",
    "    cm = confusion_matrix(y_true, y_pred)\n",
    "\n",
    "    # Plot the confusion matrix using the defined function\n",
    "    plot_confusion_matrix(cm, labels_list, figsize=(12, 10))\n",
    "    \n",
    "# Finally, display classification report\n",
    "print()\n",
    "print(\"Classification report:\")\n",
    "print()\n",
    "print(classification_report(y_true, y_pred, target_names=labels_list, digits=4))"
   ]
  },
  {
   "cell_type": "code",
   "execution_count": 25,
   "metadata": {
    "execution": {
     "iopub.execute_input": "2024-03-17T21:35:48.625401Z",
     "iopub.status.busy": "2024-03-17T21:35:48.625059Z",
     "iopub.status.idle": "2024-03-17T21:35:49.181120Z",
     "shell.execute_reply": "2024-03-17T21:35:49.180325Z",
     "shell.execute_reply.started": "2024-03-17T21:35:48.625374Z"
    },
    "trusted": true
   },
   "outputs": [],
   "source": [
    "# Save the trained model: This line of code is responsible for saving the model\n",
    "# that has been trained using the trainer object. It will serialize the model\n",
    "# and its associated weights, making it possible to reload and use the model\n",
    "# in the future without the need to retrain it.\n",
    "trainer.save_model()"
   ]
  },
  {
   "cell_type": "code",
   "execution_count": 26,
   "metadata": {
    "execution": {
     "iopub.execute_input": "2024-03-17T21:35:49.183043Z",
     "iopub.status.busy": "2024-03-17T21:35:49.182327Z",
     "iopub.status.idle": "2024-03-17T21:35:49.494549Z",
     "shell.execute_reply": "2024-03-17T21:35:49.493756Z",
     "shell.execute_reply.started": "2024-03-17T21:35:49.183008Z"
    },
    "trusted": true
   },
   "outputs": [],
   "source": [
    "# Import the 'pipeline' function from the 'transformers' library.\n",
    "from transformers import pipeline\n",
    "\n",
    "# Create a pipeline for image classification tasks. \n",
    "# You need to specify the 'model_name' and the 'device' to use for inference.\n",
    "# - 'model_name': The name of the pre-trained model to be used for image classification.\n",
    "# - 'device': Specifies the device to use for running the model (0 for GPU, -1 for CPU).\n",
    "pipe = pipeline('image-classification', model=model_name, device=0)"
   ]
  },
  {
   "cell_type": "code",
   "execution_count": 27,
   "metadata": {
    "execution": {
     "iopub.execute_input": "2024-03-17T21:35:49.496055Z",
     "iopub.status.busy": "2024-03-17T21:35:49.495766Z",
     "iopub.status.idle": "2024-03-17T21:35:49.527459Z",
     "shell.execute_reply": "2024-03-17T21:35:49.526623Z",
     "shell.execute_reply.started": "2024-03-17T21:35:49.496031Z"
    },
    "trusted": true
   },
   "outputs": [
    {
     "data": {
      "image/png": "[encoded data removed]",
      "text/plain": [
       "<PIL.PngImagePlugin.PngImageFile image mode=RGB size=200x200>"
      ]
     },
     "execution_count": 27,
     "metadata": {},
     "output_type": "execute_result"
    }
   ],
   "source": [
    "# Accessing an image from the 'test_data' dataset using index 1.\n",
    "image = test_data[1][\"image\"]\n",
    "\n",
    "# Displaying the 'image' variable.\n",
    "image"
   ]
  },
  {
   "cell_type": "code",
   "execution_count": 28,
   "metadata": {
    "execution": {
     "iopub.execute_input": "2024-03-17T21:35:49.533198Z",
     "iopub.status.busy": "2024-03-17T21:35:49.532655Z",
     "iopub.status.idle": "2024-03-17T21:35:49.572770Z",
     "shell.execute_reply": "2024-03-17T21:35:49.571943Z",
     "shell.execute_reply.started": "2024-03-17T21:35:49.533171Z"
    },
    "trusted": true
   },
   "outputs": [
    {
     "data": {
      "text/plain": [
       "[{'label': '46-50', 'score': 0.3629269003868103},\n",
       " {'label': '41-45', 'score': 0.2898661196231842},\n",
       " {'label': '51-55', 'score': 0.11085787415504456},\n",
       " {'label': '36-40', 'score': 0.05666148290038109},\n",
       " {'label': '56-60', 'score': 0.029962679371237755}]"
      ]
     },
     "execution_count": 28,
     "metadata": {},
     "output_type": "execute_result"
    }
   ],
   "source": [
    "# Apply the 'pipe' function to process the 'image' variable.\n",
    "pipe(image)"
   ]
  },
  {
   "cell_type": "code",
   "execution_count": 29,
   "metadata": {
    "execution": {
     "iopub.execute_input": "2024-03-17T21:35:49.574158Z",
     "iopub.status.busy": "2024-03-17T21:35:49.573875Z",
     "iopub.status.idle": "2024-03-17T21:35:49.583888Z",
     "shell.execute_reply": "2024-03-17T21:35:49.582960Z",
     "shell.execute_reply.started": "2024-03-17T21:35:49.574133Z"
    },
    "trusted": true
   },
   "outputs": [
    {
     "data": {
      "text/plain": [
       "'41-45'"
      ]
     },
     "execution_count": 29,
     "metadata": {},
     "output_type": "execute_result"
    }
   ],
   "source": [
    "# This line of code accesses the \"label\" attribute of a specific element in the test_data list.\n",
    "# It's used to retrieve the actual label associated with a test data point.\n",
    "id2label[test_data[1][\"label\"]]"
   ]
  },
  {
   "cell_type": "markdown",
   "metadata": {},
   "source": [
    "# Send model to Huggingface"
   ]
  },
  {
   "cell_type": "code",
   "execution_count": 30,
   "metadata": {
    "execution": {
     "iopub.execute_input": "2024-03-17T21:37:32.057806Z",
     "iopub.status.busy": "2024-03-17T21:37:32.057035Z",
     "iopub.status.idle": "2024-03-17T21:37:32.081846Z",
     "shell.execute_reply": "2024-03-17T21:37:32.080970Z",
     "shell.execute_reply.started": "2024-03-17T21:37:32.057773Z"
    },
    "trusted": true
   },
   "outputs": [
    {
     "data": {
      "application/vnd.jupyter.widget-view+json": {
       "model_id": "5857944e632f4cb6a91f25a0750f9859",
       "version_major": 2,
       "version_minor": 0
      },
      "text/plain": [
       "VBox(children=(HTML(value='<center> <img\\nsrc=https://huggingface.co/front/assets/huggingface_logo-noborder.sv…"
      ]
     },
     "metadata": {},
     "output_type": "display_data"
    }
   ],
   "source": [
    "# Import the necessary module to interact with the Hugging Face Hub.\n",
    "from huggingface_hub import notebook_login\n",
    "\n",
    "# Perform a login to the Hugging Face Hub.\n",
    "notebook_login()"
   ]
  },
  {
   "cell_type": "code",
   "execution_count": 31,
   "metadata": {
    "execution": {
     "iopub.execute_input": "2024-03-17T21:37:50.509908Z",
     "iopub.status.busy": "2024-03-17T21:37:50.509142Z",
     "iopub.status.idle": "2024-03-17T21:37:50.612704Z",
     "shell.execute_reply": "2024-03-17T21:37:50.611923Z",
     "shell.execute_reply.started": "2024-03-17T21:37:50.509876Z"
    },
    "trusted": true
   },
   "outputs": [
    {
     "name": "stdout",
     "output_type": "stream",
     "text": [
      "Repo dima806/facial_age_image_detection already exists\n"
     ]
    }
   ],
   "source": [
    "# Import the HfApi class from the huggingface_hub library.\n",
    "from huggingface_hub import HfApi\n",
    "\n",
    "# Create an instance of the HfApi class.\n",
    "api = HfApi()\n",
    "\n",
    "# Define the repository ID by combining the username \"dima806\" with the model name.\n",
    "repo_id = f\"dima806/{model_name}\"\n",
    "\n",
    "try:\n",
    "    # Attempt to create a new repository on the Hugging Face Model Hub using the specified repo_id.\n",
    "    api.create_repo(repo_id)\n",
    "    \n",
    "    # If the repository creation is successful, print a message indicating that the repository was created.\n",
    "    print(f\"Repo {repo_id} created\")\n",
    "except:\n",
    "    # If an exception is raised, print a message indicating that the repository already exists.\n",
    "    print(f\"Repo {repo_id} already exists\")"
   ]
  },
  {
   "cell_type": "code",
   "execution_count": 32,
   "metadata": {
    "execution": {
     "iopub.execute_input": "2024-03-17T21:37:52.572561Z",
     "iopub.status.busy": "2024-03-17T21:37:52.571693Z",
     "iopub.status.idle": "2024-03-17T21:38:14.212672Z",
     "shell.execute_reply": "2024-03-17T21:38:14.211792Z",
     "shell.execute_reply.started": "2024-03-17T21:37:52.572530Z"
    },
    "trusted": true
   },
   "outputs": [
    {
     "data": {
      "application/vnd.jupyter.widget-view+json": {
       "model_id": "3f7ff060be324e8e88262832c9a9344c",
       "version_major": 2,
       "version_minor": 0
      },
      "text/plain": [
       "Upload 6 LFS files:   0%|          | 0/6 [00:00<?, ?it/s]"
      ]
     },
     "metadata": {},
     "output_type": "display_data"
    },
    {
     "data": {
      "application/vnd.jupyter.widget-view+json": {
       "model_id": "a9f11a2a51124c5eab1fa94e99171c1c",
       "version_major": 2,
       "version_minor": 0
      },
      "text/plain": [
       "scheduler.pt:   0%|          | 0.00/627 [00:00<?, ?B/s]"
      ]
     },
     "metadata": {},
     "output_type": "display_data"
    },
    {
     "data": {
      "application/vnd.jupyter.widget-view+json": {
       "model_id": "f024fbae27c84bcfbc297a52e238ea90",
       "version_major": 2,
       "version_minor": 0
      },
      "text/plain": [
       "optimizer.pt:   0%|          | 0.00/687M [00:00<?, ?B/s]"
      ]
     },
     "metadata": {},
     "output_type": "display_data"
    },
    {
     "data": {
      "application/vnd.jupyter.widget-view+json": {
       "model_id": "f940132b3bfb4b77a1a6d6d43b523290",
       "version_major": 2,
       "version_minor": 0
      },
      "text/plain": [
       "model.safetensors:   0%|          | 0.00/343M [00:00<?, ?B/s]"
      ]
     },
     "metadata": {},
     "output_type": "display_data"
    },
    {
     "data": {
      "application/vnd.jupyter.widget-view+json": {
       "model_id": "4035d9530f694a71865835364e7793d0",
       "version_major": 2,
       "version_minor": 0
      },
      "text/plain": [
       "model.safetensors:   0%|          | 0.00/343M [00:00<?, ?B/s]"
      ]
     },
     "metadata": {},
     "output_type": "display_data"
    },
    {
     "data": {
      "application/vnd.jupyter.widget-view+json": {
       "model_id": "ab82807ecec745139397a9eb897ca3b7",
       "version_major": 2,
       "version_minor": 0
      },
      "text/plain": [
       "training_args.bin:   0%|          | 0.00/4.41k [00:00<?, ?B/s]"
      ]
     },
     "metadata": {},
     "output_type": "display_data"
    },
    {
     "data": {
      "application/vnd.jupyter.widget-view+json": {
       "model_id": "02e1a2d1d70a42c29f70b8cb79d1d357",
       "version_major": 2,
       "version_minor": 0
      },
      "text/plain": [
       "training_args.bin:   0%|          | 0.00/4.41k [00:00<?, ?B/s]"
      ]
     },
     "metadata": {},
     "output_type": "display_data"
    },
    {
     "data": {
      "text/plain": [
       "CommitInfo(commit_url='https://huggingface.co/dima806/facial_age_image_detection/commit/f6f2607c56d2350dfce16b83398710f79d87cea2', commit_message='Upload folder using huggingface_hub', commit_description='', oid='f6f2607c56d2350dfce16b83398710f79d87cea2', pr_url=None, pr_revision=None, pr_num=None)"
      ]
     },
     "execution_count": 32,
     "metadata": {},
     "output_type": "execute_result"
    }
   ],
   "source": [
    "# Uploading a folder to the Hugging Face Model Hub\n",
    "api.upload_folder(\n",
    "    folder_path=model_name,  # The path to the folder to be uploaded\n",
    "    path_in_repo=\".\",  # The path where the folder will be stored in the repository\n",
    "    repo_id=repo_id,  # The ID of the repository where the folder will be uploaded\n",
    "    repo_type=\"model\",  # The type of the repository (in this case, a model repository)\n",
    "    revision=\"main\" # Revision name\n",
    ")"
   ]
  },
  {
   "cell_type": "code",
   "execution_count": null,
   "metadata": {},
   "outputs": [],
   "source": []
  }
 ],
 "metadata": {
  "kaggle": {
   "accelerator": "gpu",
   "dataSources": [
    {
     "datasetId": 110215,
     "sourceId": 263465,
     "sourceType": "datasetVersion"
    }
   ],
   "dockerImageVersionId": 30559,
   "isGpuEnabled": true,
   "isInternetEnabled": true,
   "language": "python",
   "sourceType": "notebook"
  },
  "kernelspec": {
   "display_name": "Python 3",
   "language": "python",
   "name": "python3"
  },
  "language_info": {
   "codemirror_mode": {
    "name": "ipython",
    "version": 3
   },
   "file_extension": ".py",
   "mimetype": "text/x-python",
   "name": "python",
   "nbconvert_exporter": "python",
   "pygments_lexer": "ipython3",
   "version": "3.10.12"
  }
 },
 "nbformat": 4,
 "nbformat_minor": 4
}
